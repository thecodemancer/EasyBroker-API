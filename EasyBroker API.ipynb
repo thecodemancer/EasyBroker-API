{
 "cells": [
  {
   "cell_type": "markdown",
   "metadata": {},
   "source": [
    "# EasyBroker API\n"
   ]
  },
  {
   "cell_type": "code",
   "execution_count": 1,
   "metadata": {},
   "outputs": [],
   "source": [
    "import requests\n",
    "from requests.exceptions import HTTPError\n",
    "from requests.auth import AuthBase\n",
    "from pprint import pprint as pp\n",
    "import unittest\n",
    "\n"
   ]
  },
  {
   "cell_type": "code",
   "execution_count": 2,
   "metadata": {},
   "outputs": [],
   "source": [
    "class TokenAuth(AuthBase):\n",
    "    \"\"\"Implements a custom authentication scheme.\"\"\"\n",
    "\n",
    "    def __init__(self, token):\n",
    "        self.token = token\n",
    "\n",
    "    def __call__(self, r):\n",
    "        \"\"\"Attach an API token to a custom auth header.\"\"\"\n",
    "#        r.headers['X-TokenAuth'] = f'{self.token}'  # Python 3.6+\n",
    "        r.headers['User-Agent'] = 'Mozilla/5.0 (Macintosh; Intel Mac OS X 10_11_5) AppleWebKit/537.36 (KHTML, like Gecko) Chrome/50.0.2661.102 Safari/537.36'\n",
    "        r.headers['accept'] = \"application/json\"  # Python 3.6+\n",
    "        r.headers['X-Authorization'] = f'{self.token}'  # Python 3.6+\n",
    "        return r"
   ]
  },
  {
   "cell_type": "code",
   "execution_count": 3,
   "metadata": {},
   "outputs": [],
   "source": [
    "class TestSum(unittest.TestCase):\n",
    "\n",
    "    def test_true(self):\n",
    "        self.assertTrue(property_title)        "
   ]
  },
  {
   "cell_type": "code",
   "execution_count": 4,
   "metadata": {},
   "outputs": [],
   "source": [
    "class EasyBroker():\n",
    "    def __init__(self):\n",
    "        self.r=None\n",
    "        self.TOKEN=\"rf6qfrnmubycvv9qz27ra3edbe7ku6\"\n",
    "    def get_properties(self):\n",
    "        output=None \n",
    "        try:\n",
    "            self.r=requests.get(\"https://api.easybroker.com/v1/properties\", auth=TokenAuth(self.TOKEN), verify=True )\n",
    "            if self.r.status_code == 200:\n",
    "                print('Status Code: 200 [OK]')\n",
    "                output= self.r\n",
    "            elif self.r.status_code == 403:\n",
    "                print('Status Code: 403 [Forbidden]')\n",
    "                output = self.r\n",
    "            elif self.r.status_code == 404:\n",
    "                print('Status Code: 404 [Not Found]')\n",
    "                output=self.r\n",
    "            else:\n",
    "                print('Status code unknow')\n",
    "                output=self.r\n",
    "        except HTTPError as http_err:\n",
    "            print(f'HTTP error occurred: {http_err}')  # Python 3.6\n",
    "        except Exception as err:\n",
    "            print(f'Other error occurred: {err}')  # Python 3.6\n",
    "        else:\n",
    "            return output"
   ]
  },
  {
   "cell_type": "code",
   "execution_count": 5,
   "metadata": {},
   "outputs": [],
   "source": [
    "if __name__ == \"__main__\": \n",
    "    easy_broker_obj= EasyBroker()"
   ]
  },
  {
   "cell_type": "code",
   "execution_count": 6,
   "metadata": {},
   "outputs": [
    {
     "name": "stdout",
     "output_type": "stream",
     "text": [
      "Status Code: 200 [OK]\n"
     ]
    }
   ],
   "source": [
    "    response= easy_broker_obj.get_properties()"
   ]
  },
  {
   "cell_type": "code",
   "execution_count": 7,
   "metadata": {},
   "outputs": [],
   "source": [
    "    response_dict=response.json()"
   ]
  },
  {
   "cell_type": "code",
   "execution_count": 8,
   "metadata": {},
   "outputs": [
    {
     "name": "stdout",
     "output_type": "stream",
     "text": [
      "('public_id', 'EB-IW1722')\n",
      "('title', 'Oficina Ejemplo')\n",
      "('title_image_full', None)\n",
      "('title_image_thumb', None)\n",
      "('location', 'Buenos Aires Sur, Tijuana, Baja California')\n",
      "('operations',\n",
      " [{'amount': 1000000.0,\n",
      "   'currency': 'USD',\n",
      "   'formatted_amount': 'US$ 1,000,000',\n",
      "   'type': 'sale',\n",
      "   'unit': 'total'}])\n",
      "('bedrooms', None)\n",
      "('bathrooms', None)\n",
      "('parking_spaces', None)\n",
      "('property_type', 'Oficina')\n",
      "('lot_size', 0.0)\n",
      "('construction_size', 0.0)\n",
      "('updated_at', '2021-11-01T14:31:38-06:00')\n",
      "('agent', 'David Regalado')\n",
      "('show_prices', True)\n"
     ]
    }
   ],
   "source": [
    "    for i in response_dict['content']:       \n",
    "        for j in i.items():\n",
    "            pp(j)            "
   ]
  },
  {
   "cell_type": "code",
   "execution_count": 9,
   "metadata": {},
   "outputs": [
    {
     "name": "stdout",
     "output_type": "stream",
     "text": [
      "'Oficina Ejemplo'\n"
     ]
    }
   ],
   "source": [
    "    for i in response_dict['content']:\n",
    "        property_title=i['title']\n",
    "        pp(property_title)"
   ]
  },
  {
   "cell_type": "code",
   "execution_count": 10,
   "metadata": {},
   "outputs": [
    {
     "name": "stderr",
     "output_type": "stream",
     "text": [
      ".\n",
      "----------------------------------------------------------------------\n",
      "Ran 1 test in 0.001s\n",
      "\n",
      "OK\n"
     ]
    },
    {
     "data": {
      "text/plain": [
       "<unittest.main.TestProgram at 0x29848d18df0>"
      ]
     },
     "execution_count": 10,
     "metadata": {},
     "output_type": "execute_result"
    }
   ],
   "source": [
    "        unittest.main(argv=[property_title], exit=False)\n"
   ]
  },
  {
   "cell_type": "code",
   "execution_count": null,
   "metadata": {},
   "outputs": [],
   "source": []
  }
 ],
 "metadata": {
  "kernelspec": {
   "display_name": "Python 3",
   "language": "python",
   "name": "python3"
  },
  "language_info": {
   "codemirror_mode": {
    "name": "ipython",
    "version": 3
   },
   "file_extension": ".py",
   "mimetype": "text/x-python",
   "name": "python",
   "nbconvert_exporter": "python",
   "pygments_lexer": "ipython3",
   "version": "3.8.5"
  }
 },
 "nbformat": 4,
 "nbformat_minor": 4
}
